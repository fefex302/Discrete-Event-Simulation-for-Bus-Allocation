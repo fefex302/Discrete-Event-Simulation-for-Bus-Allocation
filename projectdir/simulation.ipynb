{
 "cells": [
  {
   "cell_type": "markdown",
   "id": "8db42100",
   "metadata": {},
   "source": [
    "# Simulation structure\n",
    "\n",
    "The simulation aims to understand how the amount of allocated buses for a certain event affects the waiting time for people attending the event.\n",
    "\n",
    "The structure is defined as follows:\n",
    "- The main resource is the Bus. Multiple buses can be allocated, each one with a certain capacity (Seats).\n",
    "- The other main actors are the clients, they are arriving at the bus stop following a certain schedule (for example a gaussian distribution) and they try to get on the bus, if seats are not available they will wait until a bus makes it back.\n",
    "\n",
    "The dynamics of the requests of the seats follows this structure:\n",
    "- Initially, all buses are free, they are put in a queue, so that only a bus at a time is being fully occupied and departing.\n",
    "- Clients arrive at the bus stop and they check if the queue is empty, if it's not they get on the first bus on the queue. Otherwise they wait until a bus joins the queue.\n",
    "\n",
    "We want to analyize the waiting time of each client and memorize it in a list, so that in the end we can make analysis on the waiting times (average, distribution etc.).\n",
    "\n",
    "We can also analyize the waiting time with respect to the time of the event, for example we don't want people that came 1 hour earlier to arrive at the event late, this could happen if the buses are not properly allocated.\n"
   ]
  },
  {
   "cell_type": "markdown",
   "id": "108c6267",
   "metadata": {},
   "source": [
    "#### Stuff\n",
    "\n",
    "- Passengers arrival: "
   ]
  },
  {
   "cell_type": "code",
   "execution_count": null,
   "id": "2f5ef397",
   "metadata": {},
   "outputs": [],
   "source": [
    "import simpy"
   ]
  },
  {
   "cell_type": "code",
   "execution_count": null,
   "id": "87038022",
   "metadata": {},
   "outputs": [],
   "source": []
  }
 ],
 "metadata": {
  "language_info": {
   "name": "python"
  }
 },
 "nbformat": 4,
 "nbformat_minor": 5
}
