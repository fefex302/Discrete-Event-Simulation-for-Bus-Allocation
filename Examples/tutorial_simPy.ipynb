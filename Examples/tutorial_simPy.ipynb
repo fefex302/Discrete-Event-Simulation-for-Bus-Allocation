{
 "cells": [
  {
   "cell_type": "markdown",
   "id": "f695881f",
   "metadata": {},
   "source": [
    "SimPy is a discrete-event simulation library. The behavior of active components (like vehicles, customers or messages) is modeled with processes. All processes live in an environment. They interact with the environment and with each other via events.\n",
    "\n",
    "Processes are described by simple Python generators. You can call them process function or process method, depending on whether it is a normal function or method of a class. During their lifetime, they create events and yield them in order to wait for them to occur.\n",
    "\n",
    "When a process yields an event, the process gets suspended. SimPy resumes the process, when the event occurs (we say that the event is processed). Multiple processes can wait for the same event. SimPy resumes them in the same order in which they yielded that event.\n",
    "\n",
    "An important event type is the Timeout. Events of this type occur (are processed) after a certain amount of (simulated) time has passed. They allow a process to sleep (or hold its state) for the given time. A Timeout and all other events can be created by calling the appropriate method of the Environment that the process lives in (Environment.timeout() for example)."
   ]
  },
  {
   "cell_type": "markdown",
   "id": "5b58d09d",
   "metadata": {},
   "source": [
    "- ENVIRONMENT: è`il luogo dove avviene la simulazione, tutti gli eventi vengono gestiti da questo environment che fa accadere le attivià secondo l'ordine e la disponibilità corrente.\n",
    "- GENERATOR: Un generatore è una funzione che non restituisce subito un risultato, ma lo restituisce a pezzi, nel tempo, usando yield.\n"
   ]
  },
  {
   "cell_type": "markdown",
   "id": "dfff766f",
   "metadata": {},
   "source": [
    "# Esempio di generatore\n",
    "In questo esempio la funzione \"car\" è di fatto un generatore, infatti si può notare come non contiene nessuna return ma solamente una yield.\\\n",
    "Yield: permette al processo corrente di arrestarsi in attesa che un altro evento accada, nel caso sottostante facciamo:\n",
    "\n",
    "`yield env.timeout(parking_duration)`\n",
    "\n",
    "Per dire che sospendiamo il processo fino a che il timeout non termina. Yield può essere usato anche in altri contesti, come per esempio sospendere il processo finché una richiesta di risorsa non è soddisfatta:\n",
    "\n",
    "`with bus_seats.request() as req:\n",
    "    yield req  # aspetta che ci sia posto`\n",
    "\n",
    " oppure\n",
    "\n",
    "`yield fuel.get(5)   # prendi 5 litri di carburante`\\\n",
    "`yield fuel.put(10)  # aggiungi 10 litri`\n",
    "\n",
    "La funzione è definita furbamente con un ciclo infinito, in modo tale da poter andare avanti indefinitivamente nel tempo, cosa che noi vogliamo quando simuliamo, dato che il tempo della simulazione viene definito quando avviamo il processo di simulazione."
   ]
  },
  {
   "cell_type": "code",
   "execution_count": 1,
   "id": "a4206ca9",
   "metadata": {},
   "outputs": [],
   "source": [
    "def car(env):\n",
    "    while True:\n",
    "        print('Start parking at %d' % env.now)\n",
    "        parking_duration = 5\n",
    "        yield env.timeout(parking_duration)\n",
    "\n",
    "        print('Start driving at %d' % env.now)\n",
    "        trip_duration = 2\n",
    "        yield env.timeout(trip_duration)"
   ]
  },
  {
   "cell_type": "code",
   "execution_count": 3,
   "id": "4f67945f",
   "metadata": {},
   "outputs": [
    {
     "name": "stdout",
     "output_type": "stream",
     "text": [
      "Start parking at 0\n",
      "Start parking at 0\n",
      "Start driving at 5\n",
      "Start driving at 5\n",
      "Start parking at 7\n",
      "Start parking at 7\n",
      "Start driving at 12\n",
      "Start driving at 12\n",
      "Start parking at 14\n",
      "Start parking at 14\n"
     ]
    }
   ],
   "source": [
    "import simpy\n",
    "env = simpy.Environment()\n",
    "env.process(car(env))\n",
    "\n",
    "env.run(until=15)"
   ]
  },
  {
   "cell_type": "markdown",
   "id": "c77a9cb5",
   "metadata": {},
   "source": [
    "# Classe del Processo\n",
    "\n",
    "Per modellare problemi complessi, è spesso meglio creare la classe degli oggetti che stiamo modellando, questo perché le classi permettono di associare a quell'oggetto uno stato interno persistente.\\\n",
    "Immagina di voler fare un'analisi su tempi di attesa medi di clienti, ogni cliente potrebbe essere gestito come un oggetto a sè stante, con un tempo di attesa proprio.\n",
    "\n",
    "### Interrompere un altro processo\n",
    "\n",
    "Possiamo anche interrompere altri processi mentre stanno eseguendo delle attività (sono in stato di timeout).\\\n",
    "Per esempio possiamo interrompere l'attività dell'auto di prima mentre sta eseguendo la ricarica della batteria.\n",
    "\n",
    "Quando utilizziamo yield, il processo si sospende e l’ambiente lo tiene in attesa finché non \"scade\" quel timeout.\n",
    "Durante quel tempo è sospeso, e quindi:\n",
    "- può essere interrotto (proc.interrupt())\n",
    "- può essere riattivato da eventi esterni\n",
    "\n",
    "Quando invece il processo non sta facendo yield, ma è \"attivo\" (cioè tra due yield), non può essere interrotto."
   ]
  },
  {
   "cell_type": "code",
   "execution_count": 30,
   "id": "89c15ca5",
   "metadata": {},
   "outputs": [],
   "source": [
    "class Car(object):\n",
    "    def __init__(self, env, name):\n",
    "        self.env = env\n",
    "        self.name = name\n",
    "        # Start the run process everytime an instance is created.\n",
    "        self.action = env.process(self.run())\n",
    "\n",
    "    def run(self):\n",
    "        while True:\n",
    "            print(f'{self.name} Start parking and charging at %d' % self.env.now)\n",
    "            charge_duration = 5\n",
    "            # We yield the process that process() returns\n",
    "            # to wait for it to finish\n",
    "            try:\n",
    "                yield self.env.process(self.charge(charge_duration))\n",
    "            except simpy.Interrupt:\n",
    "                print(f'{self.name} Interrupted while charging at %d' % self.env.now)\n",
    "                # If we are interrupted, we can skip the charge process\n",
    "                continue\n",
    "\n",
    "            # The charge process has finished and\n",
    "            # we can start driving again.\n",
    "            print(f'{self.name} Start driving at %d' % self.env.now)\n",
    "            trip_duration = 2\n",
    "            try:\n",
    "                yield self.env.timeout(trip_duration)\n",
    "            except simpy.Interrupt:\n",
    "                print(f'{self.name} Interrupted while driving at %d' % self.env.now)\n",
    "                # If we are interrupted, we can skip the trip process\n",
    "                continue\n",
    "    def charge(self, duration):\n",
    "        yield self.env.timeout(duration)"
   ]
  },
  {
   "cell_type": "code",
   "execution_count": 22,
   "id": "f55e0f3e",
   "metadata": {},
   "outputs": [
    {
     "name": "stdout",
     "output_type": "stream",
     "text": [
      "Auto 0 Start parking and charging at 0\n",
      "Auto 1 Start parking and charging at 0\n",
      "Auto 2 Start parking and charging at 0\n",
      "Auto 0 Start driving at 5\n",
      "Auto 1 Start driving at 5\n",
      "Auto 2 Start driving at 5\n",
      "Auto 0 Start parking and charging at 7\n",
      "Auto 1 Start parking and charging at 7\n",
      "Auto 2 Start parking and charging at 7\n",
      "Auto 0 Start driving at 12\n",
      "Auto 1 Start driving at 12\n",
      "Auto 2 Start driving at 12\n",
      "Auto 0 Start parking and charging at 14\n",
      "Auto 1 Start parking and charging at 14\n",
      "Auto 2 Start parking and charging at 14\n"
     ]
    }
   ],
   "source": [
    "env = simpy.Environment()\n",
    "cars = [Car(env, f\"Auto {i}\") for i in range(3)]\n",
    "env.run(until=15)"
   ]
  },
  {
   "cell_type": "code",
   "execution_count": 23,
   "id": "55d6bb76",
   "metadata": {},
   "outputs": [],
   "source": [
    "def driver(env, car):\n",
    "    yield env.timeout(3)\n",
    "    car.action.interrupt()"
   ]
  },
  {
   "cell_type": "code",
   "execution_count": 31,
   "id": "6326f18b",
   "metadata": {},
   "outputs": [
    {
     "name": "stdout",
     "output_type": "stream",
     "text": [
      "Auto 0 Start parking and charging at 0\n",
      "Auto 1 Start parking and charging at 0\n",
      "Auto 2 Start parking and charging at 0\n",
      "Auto 0 Interrupted while charging at 3\n",
      "Auto 0 Start parking and charging at 3\n",
      "Auto 1 Start driving at 5\n",
      "Auto 2 Start driving at 5\n",
      "Auto 1 Start parking and charging at 7\n",
      "Auto 2 Start parking and charging at 7\n",
      "Auto 0 Start driving at 8\n",
      "Auto 0 Start parking and charging at 10\n",
      "Auto 1 Start driving at 12\n",
      "Auto 2 Start driving at 12\n",
      "Auto 1 Start parking and charging at 14\n",
      "Auto 2 Start parking and charging at 14\n"
     ]
    }
   ],
   "source": [
    "env = simpy.Environment()\n",
    "cars = [Car(env, f\"Auto {i}\") for i in range(3)]\n",
    "env.process(driver(env, cars[0]))\n",
    "env.run(until=15)"
   ]
  },
  {
   "cell_type": "markdown",
   "id": "cf0517ef",
   "metadata": {},
   "source": [
    "# Risorse\n",
    "\n",
    "Vorremmo poter modellare il fatto che uno o più oggetti debbano accedere a delle risorse (per esempio i posti dell'autobus) e quindi debbano richiedere quella specifica risorsa.\\\n",
    "Simpy permette di modellare una risorsa utilizzando 3 tipi di risorse:\n",
    "- Resource: è il tipo principale di risorsa richiesta dai processi, Ogni processo richiede (request) e rilascia (release) una risorsa.\n",
    "- Container: Per risorse quantitative, tipo acqua, carburante, soldi, passeggeri (in numero totale). Supporta .put(amount) e .get(amount). Non tiene traccia di chi prene una risorsa al contrario di Resource.\n",
    "- Store: Per oggetti individuali e distinguibili da usare quando vuoi immagazzinare oggetti veri e propri (es. pacchi, messaggi, persone). Supporta .put(item) e .get() (oppure .get(filter_func))"
   ]
  },
  {
   "cell_type": "code",
   "execution_count": null,
   "id": "ab758435",
   "metadata": {},
   "outputs": [],
   "source": [
    "bcs = simpy.Resource(env, capacity=2)"
   ]
  },
  {
   "cell_type": "markdown",
   "id": "713c1b5c",
   "metadata": {},
   "source": [
    "# Callbacks"
   ]
  },
  {
   "cell_type": "code",
   "execution_count": 32,
   "id": "0a96a072",
   "metadata": {},
   "outputs": [
    {
     "data": {
      "text/plain": [
       "[<function __main__.my_callback(event)>]"
      ]
     },
     "execution_count": 32,
     "metadata": {},
     "output_type": "execute_result"
    }
   ],
   "source": [
    "def my_callback(event):\n",
    "    print('Called back from', event)\n",
    "\n",
    "env = simpy.Environment()\n",
    "event = env.event()\n",
    "event.callbacks.append(my_callback)\n",
    "event.callbacks"
   ]
  }
 ],
 "metadata": {
  "kernelspec": {
   "display_name": "venvsimpy",
   "language": "python",
   "name": "python3"
  },
  "language_info": {
   "codemirror_mode": {
    "name": "ipython",
    "version": 3
   },
   "file_extension": ".py",
   "mimetype": "text/x-python",
   "name": "python",
   "nbconvert_exporter": "python",
   "pygments_lexer": "ipython3",
   "version": "3.11.9"
  }
 },
 "nbformat": 4,
 "nbformat_minor": 5
}
