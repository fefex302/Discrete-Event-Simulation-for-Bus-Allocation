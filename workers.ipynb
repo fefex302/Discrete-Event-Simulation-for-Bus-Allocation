{
 "cells": [
  {
   "cell_type": "code",
   "execution_count": 2,
   "id": "8b0fb330",
   "metadata": {},
   "outputs": [
    {
     "name": "stdout",
     "output_type": "stream",
     "text": [
      "Simulation starts\n",
      "Worker A arrives at the machine at time 0\n",
      "Worker B arrives at the machine at time 0\n",
      "Worker C arrives at the machine at time 0\n",
      "Worker A starts using the machine at time 0\n",
      "Worker A finished at time 3\n",
      "Worker B starts using the machine at time 3\n",
      "Worker B finished at time 6\n",
      "Worker C starts using the machine at time 6\n",
      "Worker C finished at time 9\n",
      "Simulation ends\n"
     ]
    }
   ],
   "source": [
    "import simpy\n",
    "\n",
    "def worker(env, name, machine):\n",
    "    print(f'{name} arrives at the machine at time {env.now}')\n",
    "    \n",
    "    # Request the shared resource\n",
    "    with machine.request() as req:\n",
    "        yield req  # Wait until the resource is available\n",
    "        print(f'{name} starts using the machine at time {env.now}')\n",
    "        \n",
    "        # Simulate some processing time\n",
    "        processing_time = 3\n",
    "        yield env.timeout(processing_time)  # This is an event!\n",
    "        \n",
    "        print(f'{name} finished at time {env.now}')\n",
    "\n",
    "# Setup the environment\n",
    "env = simpy.Environment()\n",
    "\n",
    "# Create a shared resource with capacity 1\n",
    "machine = simpy.Resource(env, capacity=1)\n",
    "\n",
    "# Create processes (they compete for the machine)\n",
    "env.process(worker(env, 'Worker A', machine))\n",
    "env.process(worker(env, 'Worker B', machine))\n",
    "env.process(worker(env, 'Worker C', machine))\n",
    "\n",
    "# Run the simulation\n",
    "print(\"Simulation starts\")\n",
    "env.run()\n",
    "print(\"Simulation ends\")"
   ]
  }
 ],
 "metadata": {
  "kernelspec": {
   "display_name": "venvsimpy",
   "language": "python",
   "name": "python3"
  },
  "language_info": {
   "codemirror_mode": {
    "name": "ipython",
    "version": 3
   },
   "file_extension": ".py",
   "mimetype": "text/x-python",
   "name": "python",
   "nbconvert_exporter": "python",
   "pygments_lexer": "ipython3",
   "version": "3.11.9"
  }
 },
 "nbformat": 4,
 "nbformat_minor": 5
}
