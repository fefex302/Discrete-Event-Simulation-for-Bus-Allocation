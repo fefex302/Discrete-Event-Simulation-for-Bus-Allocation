{
 "cells": [
  {
   "cell_type": "markdown",
   "id": "d5ec9d8c",
   "metadata": {},
   "source": [
    "Voglio modellare un solo pullman con 10 posti e clienti che arrivano ogni 1 tu.\n",
    "\n",
    "1) Il bus è in attesa e appena salgono 10 cienti parte.\n",
    "2) impiega 12 tu ad andare/scaricare e tornare.\n",
    "3) Carica altri 10 clienti e riparte."
   ]
  },
  {
   "cell_type": "code",
   "execution_count": 1,
   "id": "e64d8462",
   "metadata": {},
   "outputs": [],
   "source": [
    "import simpy"
   ]
  },
  {
   "cell_type": "code",
   "execution_count": null,
   "id": "366b82bd",
   "metadata": {},
   "outputs": [],
   "source": [
    "class Bus(object):\n",
    "    def __init__(self, env, bus_capacity):\n",
    "        self.env = env\n",
    "        self.capacity = simpy.Container(env, capacity=bus_capacity, init=0)\n",
    "        self.action = env.process(self.run())\n",
    "\n",
    "    def run(self):\n",
    "        while True:\n",
    "            # 1. ATTESA: Attendi che 10 passeggeri salgano.\n",
    "            # L'operazione `get` si bloccherà finché il container non conterrà\n",
    "            # abbastanza elementi da prelevare. In questo caso, attende che\n",
    "            # 10 passeggeri abbiano fatto `put`.\n",
    "            print(f'{self.env.now:.2f}: Il bus è alla fermata. Posti liberi: {self.capacity.capacity - self.capacity.level}')\n",
    "            yield self.capacity.get(self.capacity.capacity) # sto tentando di prendere tutti i posti del bus, quindi questa non si sbloccherà finché il bus non sarà pieno.\n",
    "            \n",
    "            # Se il codice arriva qui, significa che 10 passeggeri sono saliti.\n",
    "            \n",
    "            # 2. PARTENZA E VIAGGIO\n",
    "            print(f'{self.env.now:.2f}: Bus pieno, partenza!')\n",
    "            yield self.env.timeout(12)  # Durata del viaggio\n",
    "            \n",
    "            # 3. RITORNO E SCARICO\n",
    "            print(f'{self.env.now:.2f}: Bus tornato alla fermata. Svuoto i posti.')\n",
    "            # Rimettiamo i \"posti\" a disposizione nel container.\n",
    "            yield self.capacity.put(self.capacity.capacity)"
   ]
  },
  {
   "cell_type": "code",
   "execution_count": 81,
   "id": "ade32745",
   "metadata": {},
   "outputs": [
    {
     "name": "stdout",
     "output_type": "stream",
     "text": [
      "Starting passengers:  0\n",
      "Bus capacity:  10\n"
     ]
    }
   ],
   "source": [
    "env = simpy.Environment()\n",
    "# Create a bus with a capacity of 10 passengers\n",
    "bus = Bus(env,10)"
   ]
  },
  {
   "cell_type": "code",
   "execution_count": 82,
   "id": "51c8a0df",
   "metadata": {},
   "outputs": [],
   "source": [
    "# Funzione che definisce il comportamento di un passeggero\n",
    "def passeggero(env, nome, bus):\n",
    "    \"\"\"\n",
    "    Il processo di un passeggero: arriva e cerca di salire sul bus.\n",
    "    \"\"\"\n",
    "    print(f'{env.now:.2f}: Il passeggero {nome} arriva alla fermata.')\n",
    "    \n",
    "    # Il passeggero tenta di \"mettere\" se stesso (1) nel container dei posti.\n",
    "    # Questa è l'azione chiave!\n",
    "    yield bus.capacity.put(1)\n",
    "    \n",
    "    # Se il codice arriva qui, significa che il passeggero è riuscito a salire.\n",
    "    print(f'{env.now:.2f}: Il passeggero {nome} è salito. Posti occupati: {bus.capacity.level}')"
   ]
  },
  {
   "cell_type": "code",
   "execution_count": 83,
   "id": "6bda0688",
   "metadata": {},
   "outputs": [],
   "source": [
    "def arrivi_passeggeri(env, bus):\n",
    "    \"\"\"\n",
    "    Genera un nuovo passeggero ogni 1 minuto.\n",
    "    \"\"\"\n",
    "    contatore_passeggeri = 0\n",
    "    while True:\n",
    "        # Attendi 1 minuto prima di creare il prossimo passeggero\n",
    "        yield env.timeout(1)\n",
    "        \n",
    "        contatore_passeggeri += 1\n",
    "        # Crea un nuovo processo per il nuovo passeggero\n",
    "        env.process(passeggero(env, f'P{contatore_passeggeri}', bus))"
   ]
  },
  {
   "cell_type": "code",
   "execution_count": 62,
   "id": "8b985c00",
   "metadata": {},
   "outputs": [
    {
     "name": "stdout",
     "output_type": "stream",
     "text": [
      "10\n",
      "Bus waiting for passengers at 0 with 0 passengers\n",
      "Passenger boarded at 0\n",
      "Bus waiting for passengers at 1 with 0 passengers\n",
      "Passenger boarded at 1\n",
      "Bus waiting for passengers at 2 with 0 passengers\n",
      "Passenger boarded at 2\n",
      "Bus waiting for passengers at 3 with 0 passengers\n",
      "Passenger boarded at 3\n",
      "Bus waiting for passengers at 4 with 0 passengers\n",
      "Passenger boarded at 4\n",
      "Bus waiting for passengers at 5 with 0 passengers\n",
      "Passenger boarded at 5\n",
      "Bus waiting for passengers at 6 with 0 passengers\n",
      "Passenger boarded at 6\n",
      "Bus waiting for passengers at 7 with 0 passengers\n",
      "Passenger boarded at 7\n",
      "Bus waiting for passengers at 8 with 0 passengers\n",
      "Passenger boarded at 8\n",
      "Bus waiting for passengers at 9 with 0 passengers\n",
      "Passenger boarded at 9\n",
      "Bus waiting for passengers at 10 with 0 passengers\n",
      "Passenger boarded at 10\n",
      "Bus waiting for passengers at 11 with 0 passengers\n",
      "Passenger boarded at 11\n",
      "Bus waiting for passengers at 12 with 0 passengers\n",
      "Passenger boarded at 12\n",
      "Bus waiting for passengers at 13 with 0 passengers\n",
      "Passenger boarded at 13\n",
      "Bus waiting for passengers at 14 with 0 passengers\n",
      "Passenger boarded at 14\n",
      "Bus waiting for passengers at 15 with 0 passengers\n",
      "Passenger boarded at 15\n",
      "Bus waiting for passengers at 16 with 0 passengers\n",
      "Passenger boarded at 16\n",
      "Bus waiting for passengers at 17 with 0 passengers\n",
      "Passenger boarded at 17\n",
      "Bus waiting for passengers at 18 with 0 passengers\n",
      "Passenger boarded at 18\n",
      "Bus waiting for passengers at 19 with 0 passengers\n",
      "Passenger boarded at 19\n",
      "Bus waiting for passengers at 20 with 0 passengers\n",
      "Passenger boarded at 20\n",
      "Bus waiting for passengers at 21 with 0 passengers\n",
      "Passenger boarded at 21\n",
      "Bus waiting for passengers at 22 with 0 passengers\n",
      "Passenger boarded at 22\n",
      "Bus waiting for passengers at 23 with 0 passengers\n",
      "Passenger boarded at 23\n",
      "Bus waiting for passengers at 24 with 0 passengers\n",
      "Passenger boarded at 24\n",
      "Bus waiting for passengers at 25 with 0 passengers\n",
      "Passenger boarded at 25\n",
      "Bus waiting for passengers at 26 with 0 passengers\n",
      "Passenger boarded at 26\n",
      "Bus waiting for passengers at 27 with 0 passengers\n",
      "Passenger boarded at 27\n",
      "Bus waiting for passengers at 28 with 0 passengers\n",
      "Passenger boarded at 28\n",
      "Bus waiting for passengers at 29 with 0 passengers\n",
      "Passenger boarded at 29\n",
      "Bus waiting for passengers at 30 with 0 passengers\n",
      "Passenger boarded at 30\n",
      "Bus waiting for passengers at 31 with 0 passengers\n",
      "Passenger boarded at 31\n",
      "Bus waiting for passengers at 32 with 0 passengers\n",
      "Passenger boarded at 32\n",
      "Bus waiting for passengers at 33 with 0 passengers\n",
      "Passenger boarded at 33\n",
      "Bus waiting for passengers at 34 with 0 passengers\n",
      "Passenger boarded at 34\n",
      "Bus waiting for passengers at 35 with 0 passengers\n",
      "Passenger boarded at 35\n",
      "Bus waiting for passengers at 36 with 0 passengers\n",
      "Passenger boarded at 36\n",
      "Bus waiting for passengers at 37 with 0 passengers\n",
      "Passenger boarded at 37\n",
      "Bus waiting for passengers at 38 with 0 passengers\n",
      "Passenger boarded at 38\n",
      "Bus waiting for passengers at 39 with 0 passengers\n",
      "Passenger boarded at 39\n",
      "Bus waiting for passengers at 40 with 0 passengers\n",
      "Passenger boarded at 40\n",
      "Bus waiting for passengers at 41 with 0 passengers\n",
      "Passenger boarded at 41\n",
      "Bus waiting for passengers at 42 with 0 passengers\n",
      "Passenger boarded at 42\n",
      "Bus waiting for passengers at 43 with 0 passengers\n",
      "Passenger boarded at 43\n",
      "Bus waiting for passengers at 44 with 0 passengers\n",
      "Passenger boarded at 44\n",
      "Bus waiting for passengers at 45 with 0 passengers\n",
      "Passenger boarded at 45\n",
      "Bus waiting for passengers at 46 with 0 passengers\n",
      "Passenger boarded at 46\n",
      "Bus waiting for passengers at 47 with 0 passengers\n",
      "Passenger boarded at 47\n",
      "Bus waiting for passengers at 48 with 0 passengers\n",
      "Passenger boarded at 48\n",
      "Bus waiting for passengers at 49 with 0 passengers\n",
      "Passenger boarded at 49\n",
      "10\n"
     ]
    }
   ],
   "source": [
    "print(bus.capacity._capacity)\n",
    "passenger_arrival_process = env.process(passenger_arrival(env, bus))\n",
    "env.run(until=50)  # Run the simulation for 50 time units\n",
    "print(bus.capacity._capacity)\n"
   ]
  }
 ],
 "metadata": {
  "kernelspec": {
   "display_name": "venvsimpy",
   "language": "python",
   "name": "python3"
  },
  "language_info": {
   "codemirror_mode": {
    "name": "ipython",
    "version": 3
   },
   "file_extension": ".py",
   "mimetype": "text/x-python",
   "name": "python",
   "nbconvert_exporter": "python",
   "pygments_lexer": "ipython3",
   "version": "3.11.9"
  }
 },
 "nbformat": 4,
 "nbformat_minor": 5
}
